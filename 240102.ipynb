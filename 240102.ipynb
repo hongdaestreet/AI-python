{
  "nbformat": 4,
  "nbformat_minor": 0,
  "metadata": {
    "colab": {
      "provenance": [],
      "authorship_tag": "ABX9TyO1WOVeNWWGdMFsggAvdpWL",
      "include_colab_link": true
    },
    "kernelspec": {
      "name": "python3",
      "display_name": "Python 3"
    },
    "language_info": {
      "name": "python"
    }
  },
  "cells": [
    {
      "cell_type": "markdown",
      "metadata": {
        "id": "view-in-github",
        "colab_type": "text"
      },
      "source": [
        "<a href=\"https://colab.research.google.com/github/hongdaestreet/AI-python/blob/main/240102.ipynb\" target=\"_parent\"><img src=\"https://colab.research.google.com/assets/colab-badge.svg\" alt=\"Open In Colab\"/></a>"
      ]
    },
    {
      "cell_type": "markdown",
      "source": [
        "### 변수 활용하기 (Variables)\n",
        "2-6"
      ],
      "metadata": {
        "id": "AlUigknFB6rV"
      }
    },
    {
      "cell_type": "code",
      "source": [
        "#하나의 변수를 활용하는 코드입니다.\n",
        "Lab = 105\n",
        "print('우리가 수업하는 실습실:')\n",
        "print(Lab)"
      ],
      "metadata": {
        "colab": {
          "base_uri": "https://localhost:8080/"
        },
        "id": "ByPkFNDxFzuZ",
        "outputId": "f56cb565-2f8f-4d5f-e3e3-7df593cb31db"
      },
      "execution_count": null,
      "outputs": [
        {
          "output_type": "stream",
          "name": "stdout",
          "text": [
            "우리가 수업하는 실습실:\n",
            "105\n"
          ]
        }
      ]
    },
    {
      "cell_type": "code",
      "source": [
        "#하나의 변수를 활용하는 코드입니다.\n",
        "Lab = 105\n",
        "print('우리가 수업하는 실습실: ', Lab)"
      ],
      "metadata": {
        "colab": {
          "base_uri": "https://localhost:8080/"
        },
        "id": "pBu5vXlAF46D",
        "outputId": "ee104d02-28c7-4475-d835-30f30a96a0de"
      },
      "execution_count": null,
      "outputs": [
        {
          "output_type": "stream",
          "name": "stdout",
          "text": [
            "우리가 수업하는 실습실:  105\n"
          ]
        }
      ]
    },
    {
      "cell_type": "code",
      "source": [
        "# 변수 두 개를 생성하고 값을 할당\n",
        "my_id = 20150001\n",
        "grade = 1\n",
        "# 두 개의 변수에 할당된 값을 출력\n",
        "print('나의 학번: ')\n",
        "print(my_id)\n",
        "print('학년: ')\n",
        "print(grade)"
      ],
      "metadata": {
        "colab": {
          "base_uri": "https://localhost:8080/"
        },
        "id": "MKg0aKQuF_dY",
        "outputId": "38e6480b-a189-489a-b0c9-0278208671a0"
      },
      "execution_count": null,
      "outputs": [
        {
          "output_type": "stream",
          "name": "stdout",
          "text": [
            "나의 학번: \n",
            "20150001\n",
            "학년: \n",
            "1\n"
          ]
        }
      ]
    },
    {
      "cell_type": "code",
      "source": [
        "# 변수에 값을 할당하고 출력하는 예제입니다.\n",
        "# dollars 변수에 값을 할당해봅시다.\n",
        "dollars = 2.75\n",
        "print('I have', dollars, 'in my account.')\n",
        "# dollars 변수에 새로운 값을 할당해봅시다.\n",
        "dollars = 99.95\n",
        "print('But now I have', dollars, 'in my account!')"
      ],
      "metadata": {
        "colab": {
          "base_uri": "https://localhost:8080/"
        },
        "id": "cVtp9vmhGCkH",
        "outputId": "848a77ef-2c91-4c12-a5ba-4dd67161ae4c"
      },
      "execution_count": null,
      "outputs": [
        {
          "output_type": "stream",
          "name": "stdout",
          "text": [
            "I have 2.75 in my account.\n",
            "But now I have 99.95 in my account!\n"
          ]
        }
      ]
    },
    {
      "cell_type": "code",
      "source": [
        "# 두 개의 변수를 생성하고 문자열을 할당합니다.\n",
        "department = '국어국문학과'\n",
        "name = '홍길동'\n",
        "# 각 변수에 할당된 문자열 값을 출력해보자.\n",
        "print(department, name)"
      ],
      "metadata": {
        "colab": {
          "base_uri": "https://localhost:8080/"
        },
        "id": "f2DQ5mIcGHjo",
        "outputId": "a4eeae56-bf62-46ab-c2e3-21f14679df99"
      },
      "execution_count": null,
      "outputs": [
        {
          "output_type": "stream",
          "name": "stdout",
          "text": [
            "국어국문학과 홍길동\n"
          ]
        }
      ]
    },
    {
      "cell_type": "markdown",
      "source": [
        "### INPUT() 함수를 이용하여 키보드로부터 입력받기\n",
        "\n",
        " 2-11~12"
      ],
      "metadata": {
        "id": "XDvYuwlDDvfC"
      }
    },
    {
      "cell_type": "code",
      "source": [
        "# 학과명을 입력받습니다.\n",
        "department = input('학과명: ')\n",
        "# 여러분의 이름을 입력받습니다.\n",
        "name = input('성명: ')\n",
        "# 두 변수의 값을 출력합니다.\n",
        "print('안녕하세요', department, name)"
      ],
      "metadata": {
        "colab": {
          "base_uri": "https://localhost:8080/"
        },
        "id": "FfrxE81ZGN6T",
        "outputId": "efefecc8-7492-4ac1-add0-08e18e720830"
      },
      "execution_count": null,
      "outputs": [
        {
          "output_type": "stream",
          "name": "stdout",
          "text": [
            "학과명: 수학과\n",
            "성명: 주홍대\n",
            "안녕하세요 수학과 주홍대\n"
          ]
        }
      ]
    },
    {
      "cell_type": "code",
      "source": [
        "# 여러분의 이름, 나이, 통학시간 정보를 입력받습니다. name = input('당신의 이름은 무엇입니까? ')\n",
        "age = int(input('나이는 어떻게 되시나요? '))\n",
        "attending_time = float(input('통학시간은 얼마나 걸립니까? '))\n",
        "# 변수에 입력된 데이터를 출력해봅시다. print('입력 정보는 다음과 같습니다.')\n",
        "print('이름:', name)\n",
        "print('나이:', age)\n",
        "print('통학시간:', attending_time)\n"
      ],
      "metadata": {
        "id": "VcnrYZP9GS8U"
      },
      "execution_count": null,
      "outputs": []
    },
    {
      "cell_type": "markdown",
      "source": [
        "### 기본 연산 수행하기\n",
        "\n",
        " 2-13~17"
      ],
      "metadata": {
        "id": "GpRowdyjD2Ga"
      }
    },
    {
      "cell_type": "code",
      "source": [
        "# salary 변수에 급여를 할당합니다.\n",
        "salary = 2500.0\n",
        "# bonus 변수에 보너스를 할당합니다.\n",
        "bonus = 1200.0\n",
        "# 급여와 보너스를 더하여 총 급여를 구해봅니다.\n",
        "# 총 급여를 pay 변수에 할당합니다.\n",
        "pay = salary + bonus\n",
        "# 총 급여를 출력합니다.\n",
        "print('총 급여: ', pay)"
      ],
      "metadata": {
        "colab": {
          "base_uri": "https://localhost:8080/"
        },
        "id": "pYx1XEF9D7z3",
        "outputId": "222f9833-8c25-4224-f1f5-869da70efa3d"
      },
      "execution_count": null,
      "outputs": [
        {
          "output_type": "stream",
          "name": "stdout",
          "text": [
            "총 급여:  3700.0\n"
          ]
        }
      ]
    },
    {
      "cell_type": "code",
      "source": [
        "# 본 예제에서는 원가에 할인율을 적용하여 할인가격을 계산해보자.\n",
        "# original price 변수에 원가를 입력받는다.\n",
        "original_price = float(input(\"제품의 원가를 입력해주세요: \"))\n",
        "# 원가에 할인율 20%를 적용하여 할인가를 계산하여 discount 변수에 할당한다.\n",
        "discount = original_price * 0.2\n",
        "# 원가에 할인가가 적용된 제품 가격을 계산하여 sale_price 변수에 할당한다.\n",
        "sale_price = original_price - discount\n",
        "# 할인가가 적용된 제품 가격을 출력한다.\n",
        "print('할인가격: ', sale_price)"
      ],
      "metadata": {
        "colab": {
          "base_uri": "https://localhost:8080/"
        },
        "id": "wToAiFnvEEPn",
        "outputId": "b667e365-653a-48df-8367-844e7e9f31ac"
      },
      "execution_count": null,
      "outputs": [
        {
          "output_type": "stream",
          "name": "stdout",
          "text": [
            "제품의 원가를 입력해주세요: 100.00\n",
            "할인가격:  80.0\n"
          ]
        }
      ]
    },
    {
      "cell_type": "code",
      "source": [
        "# 세 과목의 평가 점수를 입력받고\n",
        "# test1, test2, test3 변수에 각각 할당한다.\n",
        "test1 = float(input('첫 번째 과목 점수를 입력해주세요: '))\n",
        "test2 = float(input('두 번째 과목 점수를 입력해주세요: '))\n",
        "test3 = float(input('세 번째 과목 점수를 입력해주세요: '))\n",
        "# 각 과목의 점수 평균을 계산하고\n",
        "# 그 결과 값을 average 변수에 할당한다.\n",
        "average = (test1 + test2 + test3) / 3.0\n",
        "# 점수 평균을 출력한다.\n",
        "print('3 과목의 평균 점수: ', average)"
      ],
      "metadata": {
        "colab": {
          "base_uri": "https://localhost:8080/"
        },
        "id": "g179MMqqEHrX",
        "outputId": "7876119f-d2a1-4bfb-f81c-813605452d9d"
      },
      "execution_count": null,
      "outputs": [
        {
          "output_type": "stream",
          "name": "stdout",
          "text": [
            "첫 번째 과목 점수를 입력해주세요: 90\n",
            "두 번째 과목 점수를 입력해주세요: 80\n",
            "세 번째 과목 점수를 입력해주세요: 100\n",
            "3 과목의 평균 점수:  90.0\n"
          ]
        }
      ]
    },
    {
      "cell_type": "code",
      "source": [
        "# 본 예제는 초를 입력받아 시, 분, 초로 변환하는 프로그램이다.\n",
        "# 초 값을 입력받아 total_seconds 변수에 할당한다.\n",
        "total_seconds = float(input('시간 값을 초 단위로 입력해주세요: '))\n",
        "# 시간을 계산하여 hours 변수에 할당한다.\n",
        "hours = total_seconds // 3600\n",
        "# 분을 계산하여 minutes 변수에 할당한다.\n",
        "minutes = (total_seconds // 60) % 60\n",
        "# 초의 나머지 값을 seconds 변수에 할당한다.\n",
        "seconds = total_seconds % 60\n",
        "# 시, 분, 초 값을 출력한다.\n",
        "print('시 분 초는 다음과 같습니다.')\n",
        "print('시: ', hours)\n",
        "print('분: ', minutes)\n",
        "print('초: ', seconds)"
      ],
      "metadata": {
        "colab": {
          "base_uri": "https://localhost:8080/"
        },
        "id": "P6rnmYB8EXOc",
        "outputId": "a9fb0154-3d16-429d-e5f8-2fbf98ef14a7"
      },
      "execution_count": null,
      "outputs": [
        {
          "output_type": "stream",
          "name": "stdout",
          "text": [
            "시간 값을 초 단위로 입력해주세요: 11730\n",
            "시 분 초는 다음과 같습니다.\n",
            "시:  3.0\n",
            "분:  15.0\n",
            "초:  30.0\n"
          ]
        }
      ]
    },
    {
      "cell_type": "code",
      "source": [
        "# 본 예제는 목표액을 특정 이율로 얻고자 할 경우 매년 적립해야할 금액을 계산해보자.\n",
        "# 목표액을 입력받고 future_value 변수에 할당한다.\n",
        "future_value = float(input('목표 금액을 입력해주세요: '))\n",
        "# 연간 이율을 입력받고 rate 변수에 할당한다.\n",
        "rate = float(input('연간 이율을 입력해주세요: '))\n",
        "# 적립 기간을 입력받고 years 변수에 할당한다.\n",
        "years = int(input('저축 기간을 연 단위로 입력해주세요: '))\n",
        "# 특정 기간동안 적립해야할 금액을 계산하여 present_value 변수에 할당한다.\n",
        "present_value = future_value / (1.0 + rate)**years\n",
        "# 적립 금액을 출력한다.\n",
        "print('적립 금액: ', present_value)"
      ],
      "metadata": {
        "colab": {
          "base_uri": "https://localhost:8080/"
        },
        "id": "_5bNem-9EjkG",
        "outputId": "ab0cd8fa-c73c-4f3f-f496-64e9ca6bafd3"
      },
      "execution_count": null,
      "outputs": [
        {
          "output_type": "stream",
          "name": "stdout",
          "text": [
            "목표 금액을 입력해주세요: 10000.0\n",
            "연간 이율을 입력해주세요: 0.05\n",
            "저축 기간을 연 단위로 입력해주세요: 10\n",
            "적립 금액:  6139.132535407592\n"
          ]
        }
      ]
    },
    {
      "cell_type": "markdown",
      "source": [
        "### 출력 옵션 활용하기\n",
        "\n",
        "2-18~23"
      ],
      "metadata": {
        "id": "xzW9GCoWEy7v"
      }
    },
    {
      "cell_type": "code",
      "source": [
        "# print() 함수에서 쉼표로 데이터를 구분하여 출력할 때\n",
        "# 자동적으로 분리되는 빈 칸을 sep 옵션으로 제어할 수 있다.\n",
        "print('a','b','c')\n",
        "print('a','b','c',sep='')\n",
        "print('a','b','c',sep='***')"
      ],
      "metadata": {
        "colab": {
          "base_uri": "https://localhost:8080/"
        },
        "id": "16ICvBt2EsGX",
        "outputId": "98863ca2-4344-46eb-e2a3-35af8fc5cb07"
      },
      "execution_count": null,
      "outputs": [
        {
          "output_type": "stream",
          "name": "stdout",
          "text": [
            "a b c\n",
            "abc\n",
            "a***b***c\n"
          ]
        }
      ]
    },
    {
      "cell_type": "code",
      "source": [
        "# print() 함수를 여러 번 사용할 경우, 각 print() 함수가 수행된 후에는\n",
        "# 자동적으로 줄바꿈이 일어난다. 이는 커서가 자동으로 내려가기 때문인데\n",
        "# 커서를 줄바꿈시키지 않고 바로 옆에 놓고 같은 줄에 여러 print() 함수의 내용을\n",
        "# 나타내고자 할 때 end 옵션을 사용할 수 있다.\n",
        "print('a')\n",
        "print('b')\n",
        "print('c', end='')\n",
        "print('d', end='')\n",
        "print('e', end='***')\n",
        "print('f')"
      ],
      "metadata": {
        "colab": {
          "base_uri": "https://localhost:8080/"
        },
        "id": "kX17rdCvE90m",
        "outputId": "bf7bb282-9311-4678-a4e1-9275d6c165fc"
      },
      "execution_count": null,
      "outputs": [
        {
          "output_type": "stream",
          "name": "stdout",
          "text": [
            "a\n",
            "b\n",
            "cde***f\n"
          ]
        }
      ]
    }
  ]
}