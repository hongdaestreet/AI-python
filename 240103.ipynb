{
  "nbformat": 4,
  "nbformat_minor": 0,
  "metadata": {
    "colab": {
      "provenance": [],
      "authorship_tag": "ABX9TyPXGD4C3LaY5a5IrAok8min",
      "include_colab_link": true
    },
    "kernelspec": {
      "name": "python3",
      "display_name": "Python 3"
    },
    "language_info": {
      "name": "python"
    }
  },
  "cells": [
    {
      "cell_type": "markdown",
      "metadata": {
        "id": "view-in-github",
        "colab_type": "text"
      },
      "source": [
        "<a href=\"https://colab.research.google.com/github/hongdaestreet/AI-python/blob/main/240103.ipynb\" target=\"_parent\"><img src=\"https://colab.research.google.com/assets/colab-badge.svg\" alt=\"Open In Colab\"/></a>"
      ]
    },
    {
      "cell_type": "markdown",
      "source": [
        "조건문 & 반복문"
      ],
      "metadata": {
        "id": "Y9hygSV09K8m"
      }
    },
    {
      "cell_type": "code",
      "execution_count": null,
      "metadata": {
        "colab": {
          "base_uri": "https://localhost:8080/"
        },
        "id": "YVaduUTP89ZG",
        "outputId": "028ac3fa-607a-4f8e-caf3-dc4318c3ba11"
      },
      "outputs": [
        {
          "output_type": "stream",
          "name": "stdout",
          "text": [
            "여자입니다.\n"
          ]
        }
      ],
      "source": [
        "gender = 'F'\n",
        "\n",
        "if gender == 'M':\n",
        "    print('남자입니다.')\n",
        "if gender == 'F':\n",
        "    print('여자입니다.')"
      ]
    },
    {
      "cell_type": "code",
      "source": [
        "score = input(\"점수를 입력하시오\")\n",
        "\n",
        "if score 90:\n",
        "    print(\"A\")\n",
        "elif score 80:\n",
        "    print(\"B\")\n",
        "elif score 70:\n",
        "    print(\"C\")\n",
        "else:\n",
        "    print(\"D\")"
      ],
      "metadata": {
        "id": "SkIwM_hQ9SgN"
      },
      "execution_count": null,
      "outputs": []
    },
    {
      "cell_type": "code",
      "source": [
        "a = [1,2,3,4,5]\n",
        "for i in a:\n",
        "    print(i, end=\"\")"
      ],
      "metadata": {
        "colab": {
          "base_uri": "https://localhost:8080/"
        },
        "id": "xEUgBK4KDfHb",
        "outputId": "6361912c-9f83-4d86-869e-25fc297e0fc9"
      },
      "execution_count": null,
      "outputs": [
        {
          "output_type": "stream",
          "name": "stdout",
          "text": [
            "12345"
          ]
        }
      ]
    },
    {
      "cell_type": "code",
      "source": [
        "for i in range(1,10,2):\n",
        "    print(i)"
      ],
      "metadata": {
        "colab": {
          "base_uri": "https://localhost:8080/"
        },
        "id": "oUUtwlXaDj5E",
        "outputId": "a3fd1061-7634-4de5-8a3e-dabc68fb55d2"
      },
      "execution_count": null,
      "outputs": [
        {
          "output_type": "stream",
          "name": "stdout",
          "text": [
            "1\n",
            "3\n",
            "5\n",
            "7\n",
            "9\n"
          ]
        }
      ]
    },
    {
      "cell_type": "code",
      "source": [
        "def add(x,y):\n",
        "    s =x+y\n",
        "    a = s/2\n",
        "    print(\"합: %d, 평균: %.2f\"%(s, a))\n",
        "add(10,20)\n",
        "\n",
        "# hap, avg = add(10,20)\n",
        "# print(\"합: %d, 평균: %.2f\"%(hap, avg))"
      ],
      "metadata": {
        "id": "oCk5CYgxEY4n",
        "colab": {
          "base_uri": "https://localhost:8080/"
        },
        "outputId": "edce6a9a-9bee-4185-be14-c3db7e45e9a5"
      },
      "execution_count": null,
      "outputs": [
        {
          "output_type": "stream",
          "name": "stdout",
          "text": [
            "합: 30, 평균: 15.00\n"
          ]
        }
      ]
    },
    {
      "cell_type": "code",
      "source": [
        "## 별 문제\n",
        "\n",
        "base = 8\n",
        "\n",
        "for i in range(base - 1,0,-1):\n",
        "    for j in range(i):\n",
        "        print('*', end=\"\")\n",
        "    print()"
      ],
      "metadata": {
        "id": "6e2QMPM4QKYU",
        "colab": {
          "base_uri": "https://localhost:8080/"
        },
        "outputId": "62745bb4-246a-41fe-a17b-aa9b5a471c89"
      },
      "execution_count": 10,
      "outputs": [
        {
          "output_type": "stream",
          "name": "stdout",
          "text": [
            "*******\n",
            "******\n",
            "*****\n",
            "****\n",
            "***\n",
            "**\n",
            "*\n"
          ]
        }
      ]
    },
    {
      "cell_type": "code",
      "source": [],
      "metadata": {
        "id": "pclZtSJTW45W"
      },
      "execution_count": null,
      "outputs": []
    }
  ]
}