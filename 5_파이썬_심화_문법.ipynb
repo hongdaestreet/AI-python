{
  "nbformat": 4,
  "nbformat_minor": 0,
  "metadata": {
    "colab": {
      "provenance": [],
      "authorship_tag": "ABX9TyOWdy+L47idy5EOUkdixeDF",
      "include_colab_link": true
    },
    "kernelspec": {
      "name": "python3",
      "display_name": "Python 3"
    },
    "language_info": {
      "name": "python"
    }
  },
  "cells": [
    {
      "cell_type": "markdown",
      "metadata": {
        "id": "view-in-github",
        "colab_type": "text"
      },
      "source": [
        "<a href=\"https://colab.research.google.com/github/hongdaestreet/AI-python/blob/main/5_%ED%8C%8C%EC%9D%B4%EC%8D%AC_%EC%8B%AC%ED%99%94_%EB%AC%B8%EB%B2%95.ipynb\" target=\"_parent\"><img src=\"https://colab.research.google.com/assets/colab-badge.svg\" alt=\"Open In Colab\"/></a>"
      ]
    },
    {
      "cell_type": "markdown",
      "source": [
        "### 1. split & join"
      ],
      "metadata": {
        "id": "Z3TX-LgwSmxR"
      }
    },
    {
      "cell_type": "code",
      "source": [
        "# split: 문자열을 특정 구분자로 나누어 리스트로 반환하는 메소드\n",
        "data = \"John,30,Engineer\\nAlice,25,Designer\\nBob,22,Artist\"\n",
        "lines = data.split(\"\\n\")\n",
        "lines"
      ],
      "metadata": {
        "colab": {
          "base_uri": "https://localhost:8080/"
        },
        "id": "FxkJAF4GSGL5",
        "outputId": "6999f7c8-5c49-4868-ea23-54e5525e8b4a"
      },
      "execution_count": null,
      "outputs": [
        {
          "output_type": "execute_result",
          "data": {
            "text/plain": [
              "['John,30,Engineer', 'Alice,25,Designer', 'Bob,22,Artist']"
            ]
          },
          "metadata": {},
          "execution_count": 9
        }
      ]
    },
    {
      "cell_type": "code",
      "source": [
        "for line in lines:\n",
        "    fields = line.split(\",\")\n",
        "    print(\"Name:\", fields[0], \"Age:\", fields[1], \"Occupation:\", fields[2])"
      ],
      "metadata": {
        "colab": {
          "base_uri": "https://localhost:8080/"
        },
        "id": "3zUGEkLgSQJd",
        "outputId": "ffb73c4e-cd80-4c9f-fc92-5ff43f3be7e2"
      },
      "execution_count": null,
      "outputs": [
        {
          "output_type": "stream",
          "name": "stdout",
          "text": [
            "Name: John Age: 30 Occupation: Engineer\n",
            "Name: Alice Age: 25 Occupation: Designer\n",
            "Name: Bob Age: 22 Occupation: Artist\n"
          ]
        }
      ]
    },
    {
      "cell_type": "code",
      "source": [
        "# join: 리스트의 각 요소를 문자열로 변환하고, 주어진 구분자로 결합하여 하나의 문자열로 반환\n",
        "words = ['Hello', 'world', 'this', 'is', 'a', 'test']\n",
        "sentence = ' '.join(words)\n",
        "print(sentence)\n"
      ],
      "metadata": {
        "colab": {
          "base_uri": "https://localhost:8080/"
        },
        "id": "vXkK0KqeSa_4",
        "outputId": "f07f6bd7-dccd-4edf-8669-68c65f1436e8"
      },
      "execution_count": null,
      "outputs": [
        {
          "output_type": "stream",
          "name": "stdout",
          "text": [
            "Hello world this is a test\n"
          ]
        }
      ]
    },
    {
      "cell_type": "code",
      "execution_count": null,
      "metadata": {
        "colab": {
          "base_uri": "https://localhost:8080/"
        },
        "id": "yYpA_2vyP4_G",
        "outputId": "46d1846f-28b8-4c28-945a-ee6902e16b1c"
      },
      "outputs": [
        {
          "output_type": "stream",
          "name": "stdout",
          "text": [
            "['Geeks', 'for', 'Geeks']\n"
          ]
        }
      ],
      "source": [
        "# split in string\n",
        "a = \"Geeks for Geeks\"\n",
        "s = a.split(\" \")\n",
        "\n",
        "print(s)"
      ]
    },
    {
      "cell_type": "code",
      "source": [
        "# Join the list of strings\n",
        "a = \"Geeks for Geeks\"\n",
        "s = a.split(\" \")\n",
        "\n",
        "j = \"-\".join(s)\n",
        "print(j)"
      ],
      "metadata": {
        "colab": {
          "base_uri": "https://localhost:8080/"
        },
        "id": "I6o8XHU1QOSl",
        "outputId": "477b4b45-bbd4-48ed-cef3-3606a5ef7b81"
      },
      "execution_count": null,
      "outputs": [
        {
          "output_type": "stream",
          "name": "stdout",
          "text": [
            "Geeks-for-Geeks\n"
          ]
        }
      ]
    },
    {
      "cell_type": "markdown",
      "source": [
        "### list comprehension\n",
        "\n",
        "new_list = [expression for item in iterable if condition]"
      ],
      "metadata": {
        "id": "xsprlLozSqbS"
      }
    },
    {
      "cell_type": "code",
      "source": [
        "squares = [x**2 for x in range(5)]\n",
        "print(squares) # [0, 1, 4, 9, 16]"
      ],
      "metadata": {
        "colab": {
          "base_uri": "https://localhost:8080/"
        },
        "id": "QiVGkCTdQlpU",
        "outputId": "5c5027c5-90a7-4cf3-903a-cee2b8d09dcd"
      },
      "execution_count": null,
      "outputs": [
        {
          "output_type": "stream",
          "name": "stdout",
          "text": [
            "[0, 1, 4, 9, 16]\n"
          ]
        }
      ]
    },
    {
      "cell_type": "code",
      "source": [
        "# 1~20 3의 배수 제곱 리스트\n",
        "\n",
        "lc = [x**2 for x in range(1,21) if x%3 == 0]\n",
        "lc"
      ],
      "metadata": {
        "colab": {
          "base_uri": "https://localhost:8080/"
        },
        "id": "Lt_R68uyTtLl",
        "outputId": "c3c26512-7b2c-42d7-b776-abc18b0b61ca"
      },
      "execution_count": null,
      "outputs": [
        {
          "output_type": "execute_result",
          "data": {
            "text/plain": [
              "[9, 36, 81, 144, 225, 324]"
            ]
          },
          "metadata": {},
          "execution_count": 14
        }
      ]
    },
    {
      "cell_type": "code",
      "source": [
        "# Lab\n",
        "l1 = [1,2,3,4,5]\n",
        "\n",
        "lc1 = [x**2 for x in l1]\n",
        "print(lc1)"
      ],
      "metadata": {
        "colab": {
          "base_uri": "https://localhost:8080/"
        },
        "id": "fkGY-kSxSvjE",
        "outputId": "0ab47655-9111-49cf-94e3-44167ac0f261"
      },
      "execution_count": null,
      "outputs": [
        {
          "output_type": "stream",
          "name": "stdout",
          "text": [
            "[1, 4, 9, 16, 25]\n"
          ]
        }
      ]
    },
    {
      "cell_type": "code",
      "source": [
        "# Lab\n",
        "l2 = [\"Seoul\", \"New York\", \"London\", \"Shanghai\", \"Paris\", \"Tokyo\"]\n",
        "\n",
        "lc2 = [x for x in l2 if x[0] == 'S']\n",
        "print(lc2)"
      ],
      "metadata": {
        "colab": {
          "base_uri": "https://localhost:8080/"
        },
        "id": "2sEkVxthTE3v",
        "outputId": "13282837-0ca6-4971-e2b9-494c6aebda01"
      },
      "execution_count": null,
      "outputs": [
        {
          "output_type": "stream",
          "name": "stdout",
          "text": [
            "['Seoul', 'Shanghai']\n"
          ]
        }
      ]
    },
    {
      "cell_type": "markdown",
      "source": [
        "### enumerate & zip"
      ],
      "metadata": {
        "id": "r_LQSgejTjpD"
      }
    },
    {
      "cell_type": "markdown",
      "source": [
        "enumerate: 순회 가능한 객체(예: 리스트)를 인덱스와 함께 반환"
      ],
      "metadata": {
        "id": "s2SWA0kITn6s"
      }
    },
    {
      "cell_type": "code",
      "source": [
        "fruits = ['apple', 'banana', 'cherry']\n",
        "for index, fruit in enumerate(fruits):\n",
        "    print(index, fruit)"
      ],
      "metadata": {
        "colab": {
          "base_uri": "https://localhost:8080/"
        },
        "id": "WPcdSQG1TZoB",
        "outputId": "b0fe18c8-2b06-40af-cfbd-2dbfedfd1324"
      },
      "execution_count": null,
      "outputs": [
        {
          "output_type": "stream",
          "name": "stdout",
          "text": [
            "0 apple\n",
            "1 banana\n",
            "2 cherry\n"
          ]
        }
      ]
    },
    {
      "cell_type": "code",
      "source": [
        "# Lab\n",
        "l1 = ['a','b','c']\n",
        "\n",
        "for i, l in enumerate(l1):\n",
        "    print(f\"fruit{i} name is {l}\")"
      ],
      "metadata": {
        "colab": {
          "base_uri": "https://localhost:8080/"
        },
        "id": "iqA7dovNWj7H",
        "outputId": "06f84fbb-9c75-4a7a-d711-5ee20d9cc333"
      },
      "execution_count": null,
      "outputs": [
        {
          "output_type": "stream",
          "name": "stdout",
          "text": [
            "fruit0 name is a\n",
            "fruit1 name is b\n",
            "fruit2 name is c\n"
          ]
        }
      ]
    },
    {
      "cell_type": "code",
      "source": [
        "# Lab\n",
        "l2 = ['a','b','c']\n",
        "\n",
        "for i in range(3):\n",
        "    print(f\"fruit{i} name is {l2[i]}\")"
      ],
      "metadata": {
        "colab": {
          "base_uri": "https://localhost:8080/"
        },
        "id": "AIzqtOyaW7eX",
        "outputId": "f23e9b0d-93d5-47b9-af3c-93204f7c8407"
      },
      "execution_count": null,
      "outputs": [
        {
          "output_type": "stream",
          "name": "stdout",
          "text": [
            "fruit0 name is a\n",
            "fruit1 name is b\n",
            "fruit2 name is c\n"
          ]
        }
      ]
    },
    {
      "cell_type": "markdown",
      "source": [
        "zip: 두 개 이상의 순회 가능한 객체를 병렬적으로 순회하면서 각 항목을 튜플로 묶어 반환."
      ],
      "metadata": {
        "id": "aXGjkp98YPAz"
      }
    },
    {
      "cell_type": "code",
      "source": [
        "names = ['John', 'Jane', 'Doe']\n",
        "ages = [25, 30, 35]\n",
        "for name, age in zip(names, ages):\n",
        "    print(f\"{name} is {age} years old.\")\n",
        "\n",
        "print(zip(names,ages))\n",
        "z = tuple(zip(names,ages))\n",
        "print(z)"
      ],
      "metadata": {
        "colab": {
          "base_uri": "https://localhost:8080/"
        },
        "id": "gJPVDxpnXTeQ",
        "outputId": "3833590c-062d-41ca-d091-f440aa7aaf22"
      },
      "execution_count": null,
      "outputs": [
        {
          "output_type": "stream",
          "name": "stdout",
          "text": [
            "John is 25 years old.\n",
            "Jane is 30 years old.\n",
            "Doe is 35 years old.\n",
            "<zip object at 0x7dfb7cb81dc0>\n",
            "(('John', 25), ('Jane', 30), ('Doe', 35))\n"
          ]
        }
      ]
    },
    {
      "cell_type": "code",
      "source": [
        "keys = ['a', 'b', 'c']\n",
        "values = [1, 2, 3]\n",
        "\n",
        "dic = dict(zip(keys, values))\n",
        "print(dic)"
      ],
      "metadata": {
        "id": "rsJqXNuMYSZ_",
        "colab": {
          "base_uri": "https://localhost:8080/"
        },
        "outputId": "05a77001-b0f6-4842-9ff7-0721ec69d4b8"
      },
      "execution_count": null,
      "outputs": [
        {
          "output_type": "stream",
          "name": "stdout",
          "text": [
            "{'a': 1, 'b': 2, 'c': 3}\n"
          ]
        }
      ]
    },
    {
      "cell_type": "code",
      "source": [
        "list1 = [1, 2, 3]\n",
        "list2 = [4, 5, 6]\n",
        "list3 = [7, 8, 9]\n",
        "\n",
        "l = [sum(i) for i in zip(list1,list2,list3)]\n",
        "print(l)"
      ],
      "metadata": {
        "colab": {
          "base_uri": "https://localhost:8080/"
        },
        "id": "l6oyMiMTdU8E",
        "outputId": "91942dde-8df2-4191-f6d2-62162c840ec0"
      },
      "execution_count": null,
      "outputs": [
        {
          "output_type": "stream",
          "name": "stdout",
          "text": [
            "[12, 15, 18]\n"
          ]
        }
      ]
    },
    {
      "cell_type": "code",
      "source": [
        "# Lab_zip\n",
        "\n",
        "name = [ \"M\", \"N\", \"S\", \"A\" ]\n",
        "roll_no = [ 4, 1, 3, 2 ]\n",
        "\n",
        "t = tuple(zip(name,roll_no))\n",
        "dic = dict(t)"
      ],
      "metadata": {
        "colab": {
          "base_uri": "https://localhost:8080/"
        },
        "id": "5hI0mQIidnvY",
        "outputId": "fb7a77ee-2bbb-499c-80ee-5fc318b11f89"
      },
      "execution_count": null,
      "outputs": [
        {
          "output_type": "stream",
          "name": "stdout",
          "text": [
            "{'M': 4, 'N': 1, 'S': 3, 'A': 2}\n"
          ]
        }
      ]
    },
    {
      "cell_type": "code",
      "source": [
        "names = ['M', 'R', 'C']\n",
        "ages = [24, 50, 18]\n",
        "\n",
        "ze = [print(f\"{index} {name} \") for index, name in enumerate(names)]"
      ],
      "metadata": {
        "colab": {
          "base_uri": "https://localhost:8080/"
        },
        "id": "tjY4g5QSd6Dg",
        "outputId": "fc03fd9b-d648-4eb2-870a-2209edbd0a1c"
      },
      "execution_count": null,
      "outputs": [
        {
          "output_type": "stream",
          "name": "stdout",
          "text": [
            "0 M \n",
            "1 R \n",
            "2 C \n"
          ]
        }
      ]
    },
    {
      "cell_type": "code",
      "source": [
        "num = list(map(int, input().split()))\n",
        "if num[0] != num[1] and num[0] != num[2] and num[1] != num[2]:\n",
        "\tnum.sort(reverse = True)\n",
        "\tfor i in num:\n",
        "\t\tprint(i, end =\" \")\n",
        "else:\n",
        "\tprint(\"wrong value\")"
      ],
      "metadata": {
        "colab": {
          "base_uri": "https://localhost:8080/",
          "height": 146
        },
        "id": "kwDB0Zq4f-vG",
        "outputId": "01ed8600-2236-45ae-8be5-853d6f14a281"
      },
      "execution_count": 45,
      "outputs": [
        {
          "output_type": "error",
          "ename": "IndentationError",
          "evalue": "unindent does not match any outer indentation level (<tokenize>, line 4)",
          "traceback": [
            "\u001b[0;36m  File \u001b[0;32m\"<tokenize>\"\u001b[0;36m, line \u001b[0;32m4\u001b[0m\n\u001b[0;31m    for i in num:\u001b[0m\n\u001b[0m    ^\u001b[0m\n\u001b[0;31mIndentationError\u001b[0m\u001b[0;31m:\u001b[0m unindent does not match any outer indentation level\n"
          ]
        }
      ]
    },
    {
      "cell_type": "code",
      "source": [
        "num = list(map(int, input().split()))\n",
        "if num[0] != num[1] and num[0] != num[2] and num[1] != num[2]:\n",
        "\tnum.sort(reverse = True)\n",
        "\tfor i in num:\n",
        "\t\tprint(i, end =\" \")\n",
        "else:\n",
        "\tprint(\"wrong value\")"
      ],
      "metadata": {
        "colab": {
          "base_uri": "https://localhost:8080/"
        },
        "id": "2ojUnRX4lR53",
        "outputId": "531d4d5e-b117-495c-8b66-d5eda04436c1"
      },
      "execution_count": 46,
      "outputs": [
        {
          "output_type": "stream",
          "name": "stdout",
          "text": [
            "1 40 50\n",
            "50 40 1 "
          ]
        }
      ]
    },
    {
      "cell_type": "code",
      "source": [
        "sec = int(input())\n",
        "h = sec // 3600\n",
        "s = sec % 60\n",
        "m = (sec-h*3600-s) // 60\n",
        "print(f\"{h}시 {m}분 {s}초\")"
      ],
      "metadata": {
        "id": "ZK1aIVu9iNZV",
        "colab": {
          "base_uri": "https://localhost:8080/"
        },
        "outputId": "32135a48-170b-4511-b1c0-33bdb768ea30"
      },
      "execution_count": 36,
      "outputs": [
        {
          "output_type": "stream",
          "name": "stdout",
          "text": [
            "11730\n",
            "3시 15분 30초\n"
          ]
        }
      ]
    },
    {
      "cell_type": "code",
      "source": [
        "num = list(map(int, input(\"세 정수를 입력하세요: \").split()))\n",
        "\n",
        "if num[0] != num[1] and num[0] != num[2] and num[1] != num[2]:\n",
        "    num.sort(reverse=True)\n",
        "    for i in num:\n",
        "        print(i, end=\" \")\n",
        "else:\n",
        "    print(\"잘못된 값이 입력되었습니다.\")\n"
      ],
      "metadata": {
        "colab": {
          "base_uri": "https://localhost:8080/"
        },
        "id": "C4_bflAzjocM",
        "outputId": "f3d0341c-806b-4ebc-ae68-aac7b58d4a46"
      },
      "execution_count": 41,
      "outputs": [
        {
          "output_type": "stream",
          "name": "stdout",
          "text": [
            "세 정수를 입력하세요: 1 2 5\n",
            "5 2 1 "
          ]
        }
      ]
    },
    {
      "cell_type": "code",
      "source": [],
      "metadata": {
        "id": "yAH5v1SokjZS"
      },
      "execution_count": null,
      "outputs": []
    }
  ]
}